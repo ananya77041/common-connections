{
 "cells": [
  {
   "cell_type": "code",
   "execution_count": null,
   "metadata": {
    "collapsed": false
   },
   "outputs": [],
   "source": [
    "import networkx as nx\n",
    "import matplotlib.pyplot as plt\n",
    "import pickle\n",
    "%matplotlib inline\n",
    "\n",
    "with open('common_connection_200k.csv') as f:\n",
    "    header = f.readline()\n",
    "    G = nx.Graph()\n",
    "\n",
    "    for line in f:\n",
    "        record = line.strip().split(',')\n",
    "        G.add_nodes_from(record)\n",
    "        G.add_edge(record[0], record[1])\n",
    "        \n",
    "pickle.dump(G, open('connections_graph.pkl', 'wb'))"
   ]
  },
  {
   "cell_type": "code",
   "execution_count": 1,
   "metadata": {
    "collapsed": false
   },
   "outputs": [],
   "source": [
    "import pickle\n",
    "G = pickle.load(open('connections_graph.pkl', 'rb'))"
   ]
  },
  {
   "cell_type": "code",
   "execution_count": null,
   "metadata": {
    "collapsed": true
   },
   "outputs": [],
   "source": [
    "import networkx as nx\n",
    "import matplotlib.pyplot as plt\n",
    "import pickle\n",
    "%matplotlib inline\n",
    "\n",
    "H = nx.Graph()\n",
    "\n",
    "with open('sample.csv') as f:\n",
    "    header = f.readline()\n",
    "    for line in f:\n",
    "        record = line.strip().split(',')\n",
    "        H.add_nodes_from(record)\n",
    "        H.add_edge(record[0], record[1])"
   ]
  },
  {
   "cell_type": "code",
   "execution_count": null,
   "metadata": {
    "collapsed": false
   },
   "outputs": [],
   "source": [
    "from multiprocessing import Pool\n",
    "import math\n",
    "\n",
    "def find_max_common(nodes):\n",
    "    cur_max = 0\n",
    "    max_nodes = None\n",
    "    for node in nodes:\n",
    "        for node_2 in nodes:\n",
    "            if node != node_2:\n",
    "                common = len(set(nx.common_neighbors(G, node, node_2)))\n",
    "                if common > cur_max:\n",
    "                    max_nodes = (node, node_2)\n",
    "                    print(cur_max)\n",
    "    return (max_nodes, cur_max)\n",
    "\n",
    "num_workers = 8\n",
    "pool = Pool(processes=num_workers)\n",
    "nodes = G.nodes()\n",
    "pool.map(find_max_common, [nodes[x:x+math.floor(len(nodes)/num_workers)] for x in range(0, len(nodes), math.floor(len(nodes)/num_workers))])"
   ]
  },
  {
   "cell_type": "code",
   "execution_count": null,
   "metadata": {
    "collapsed": false
   },
   "outputs": [],
   "source": [
    "import scipy as sp\n",
    "\n",
    "A = nx.adjacency_matrix(G)"
   ]
  },
  {
   "cell_type": "code",
   "execution_count": null,
   "metadata": {
    "collapsed": false
   },
   "outputs": [],
   "source": [
    "import numpy as np"
   ]
  },
  {
   "cell_type": "code",
   "execution_count": null,
   "metadata": {
    "collapsed": false
   },
   "outputs": [],
   "source": [
    "np.multiply(A, np.transpose(A))"
   ]
  },
  {
   "cell_type": "code",
   "execution_count": null,
   "metadata": {
    "collapsed": false
   },
   "outputs": [],
   "source": [
    " nx.number_connected_components(G)"
   ]
  },
  {
   "cell_type": "code",
   "execution_count": null,
   "metadata": {
    "collapsed": false
   },
   "outputs": [],
   "source": [
    "[k for k,v in nx.single_source_shortest_path_length(G, '80443', cutoff=2).items() if v == 2]"
   ]
  },
  {
   "cell_type": "code",
   "execution_count": null,
   "metadata": {
    "collapsed": true
   },
   "outputs": [],
   "source": []
  }
 ],
 "metadata": {
  "kernelspec": {
   "display_name": "Python 3",
   "language": "python",
   "name": "python3"
  },
  "language_info": {
   "codemirror_mode": {
    "name": "ipython",
    "version": 3
   },
   "file_extension": ".py",
   "mimetype": "text/x-python",
   "name": "python",
   "nbconvert_exporter": "python",
   "pygments_lexer": "ipython3",
   "version": "3.4.3"
  }
 },
 "nbformat": 4,
 "nbformat_minor": 0
}
